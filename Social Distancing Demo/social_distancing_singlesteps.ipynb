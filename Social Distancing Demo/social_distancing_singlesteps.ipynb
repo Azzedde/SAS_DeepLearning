{
 "cells": [
  {
   "cell_type": "markdown",
   "metadata": {},
   "source": [
    "# Import required libraries\n",
    "* <b>SAS ESPPy</b> for communication with SAS Event Stream Processing\n",
    "* <b>OpenCV (cv2)</b> to calculate the homography matrix\n",
    "* <b>Others</b> for various other tasks"
   ]
  },
  {
   "cell_type": "code",
   "execution_count": 1,
   "metadata": {},
   "outputs": [],
   "source": [
    "import json\n",
    "import esppy\n",
    "import threading\n",
    "import time\n",
    "import websocket\n",
    "from random import randint\n",
    "import numpy as np\n",
    "import base64\n",
    "import cv2\n",
    "from matplotlib import pyplot as plt"
   ]
  },
  {
   "cell_type": "markdown",
   "metadata": {},
   "source": [
    "## Calculate Homography Matrix for camera image transformation\n",
    "This transformation matrix will be integrated into SAS Event Stream Processing to calculate real distances from the camera image."
   ]
  },
  {
   "cell_type": "code",
   "execution_count": 2,
   "metadata": {},
   "outputs": [
    {
     "name": "stdout",
     "output_type": "stream",
     "text": [
      "Homography matrix calculated:\n",
      "\n",
      "[[4.91488243e-01 5.76957255e-01 6.98411491e-15]\n",
      " [2.87292236e-02 1.48031055e+00 6.04056480e-15]\n",
      " [2.87577387e-05 1.29930227e-03 1.00000000e+00]]\n"
     ]
    }
   ],
   "source": [
    "# Define 4 points in your image and the corresponding birds eye view:\n",
    "pts_src = np.array([[290, 160], [33, 543], [1749, 513],[1512, 137]]) # points on camera image\n",
    "pts_dst = np.array([[0, 0], [0, 270], [480, 270],[480, 0]]) # points on map image\n",
    "\n",
    "# Calculate Homography matrix\n",
    "h, status = cv2.findHomography(pts_src, pts_dst)\n",
    "P = np.array([[0,1920,1920,0],[0,0,1080,1080],[1,1,1,1]])\n",
    "h_ = h.dot(P)\n",
    "min_x, min_y = np.min(h_[0] / h_[2]), np.min(h_[1]/h_[2])\n",
    "trans_mat = np.array([[1,0,-min_x], [0,1,-min_y],[0,0,1]])\n",
    "F = trans_mat.dot(h)\n",
    "print('Homography matrix calculated:\\n')\n",
    "print(F)"
   ]
  },
  {
   "cell_type": "markdown",
   "metadata": {},
   "source": [
    "We can transform our coordinates with a simple function given our homography matrix:"
   ]
  },
  {
   "cell_type": "code",
   "execution_count": 3,
   "metadata": {},
   "outputs": [
    {
     "data": {
      "text/plain": [
       "(130, 236)"
      ]
     },
     "execution_count": 3,
     "metadata": {},
     "output_type": "execute_result"
    }
   ],
   "source": [
    "# Helpfer function to return transformed x,y-values given a homography matrix\n",
    "def toworld(xy):\n",
    "    imagepoint = [xy[0], xy[1], 1]\n",
    "    worldpoint = np.array(np.dot(np.array(F),imagepoint))\n",
    "    scalar = worldpoint[2]\n",
    "    xworld = int(worldpoint[0]/scalar)\n",
    "    yworld = int(worldpoint[1]/scalar)\n",
    "    return xworld, yworld\n",
    "# Calculate an example for x=100 and y=200\n",
    "xy = [100, 200]\n",
    "toworld(xy)"
   ]
  },
  {
   "cell_type": "markdown",
   "metadata": {},
   "source": [
    "## Define SAS Event Stream Processing Project\n",
    "This code defines a simple SAS Event Stream Processing (ESP) project that will receive images and applies a Tiny YOLOv2 model on it to detect people.<br>\n",
    "These detections will be fed into a Python-Window running Python-Code in SAS Micro Analytics Service (MAS) that performs the following:\n",
    "1. Transform coordinates of detected people via homography matrix\n",
    "2. Calculate distances between people\n",
    "3. Detect crowds\n",
    "4. Visualize the results on the image and via a 2D top-view map"
   ]
  },
  {
   "cell_type": "markdown",
   "metadata": {},
   "source": [
    "### User Inputs"
   ]
  },
  {
   "cell_type": "code",
   "execution_count": 4,
   "metadata": {},
   "outputs": [],
   "source": [
    "### User variables\n",
    "# Image input size\n",
    "input_w = 1920\n",
    "input_h = 1080\n",
    "# Model input size\n",
    "model_input_w = 416\n",
    "model_input_h = 416\n",
    "# Maximum number of objects to detect\n",
    "max_number_objects = 50\n",
    "# Maximum distance to detect between objects\n",
    "max_distance_detection = 140\n",
    "# Maximum distance between people to be considered part of a crowd\n",
    "max_distance_detection_crowd = 80\n",
    "# Minimum number of people to be considered a crowd\n",
    "min_crowd_size = 3\n",
    "# Use transformed image and create 2d map-view (set to False if you don't have a transformation matrix and to calculate distances on camera image directly -> does not represent real world distance)\n",
    "map_view = False\n",
    "# Homography matrix (must be set, if map_view = True)\n",
    "F = F"
   ]
  },
  {
   "cell_type": "markdown",
   "metadata": {},
   "source": [
    "### Create an empty ESP project"
   ]
  },
  {
   "cell_type": "code",
   "execution_count": 5,
   "metadata": {},
   "outputs": [
    {
     "data": {
      "image/svg+xml": [
       "<?xml version=\"1.0\" encoding=\"UTF-8\" standalone=\"no\"?>\n",
       "<!DOCTYPE svg PUBLIC \"-//W3C//DTD SVG 1.1//EN\"\n",
       " \"http://www.w3.org/Graphics/SVG/1.1/DTD/svg11.dtd\">\n",
       "<!-- Generated by graphviz version 2.30.1 (20180420.1509)\n",
       " -->\n",
       "<!-- Title: %3 Pages: 1 -->\n",
       "<svg width=\"226.0pt\" height=\"99.0pt\"\n",
       " viewBox=\"0.00 0.00 226.00 99.00\" xmlns=\"http://www.w3.org/2000/svg\" xmlns:xlink=\"http://www.w3.org/1999/xlink\">\n",
       "<g id=\"graph0\" class=\"graph\" transform=\"scale(1 1) rotate(0) translate(4 95)\">\n",
       "<title>%3</title>\n",
       "<polygon fill=\"white\" stroke=\"white\" points=\"-4,5 -4,-95 223,-95 223,5 -4,5\"/>\n",
       "<g id=\"clust1\" class=\"cluster\"><title>cluster_project_social_distancing</title>\n",
       "<path fill=\"#dadada\" stroke=\"#c0c0c0\" stroke-width=\"2\" d=\"M20,-8C20,-8 198,-8 198,-8 204,-8 210,-14 210,-20 210,-20 210,-71 210,-71 210,-77 204,-83 198,-83 198,-83 20,-83 20,-83 14,-83 8,-77 8,-71 8,-71 8,-20 8,-20 8,-14 14,-8 20,-8\"/>\n",
       "<text text-anchor=\"middle\" x=\"105\" y=\"-67.8\" font-family=\"Helvetica,sans-Serif\" font-size=\"14.00\">project_social_distancing</text>\n",
       "</g>\n",
       "<!-- project_social_distancing.query_social_distancing -->\n",
       "<g id=\"node1\" class=\"node\"><title>project_social_distancing.query_social_distancing</title>\n",
       "<path fill=\"#f0f0f0\" stroke=\"#a0a0a0\" d=\"M190,-52C190,-52 28,-52 28,-52 22,-52 16,-46 16,-40 16,-40 16,-28 16,-28 16,-22 22,-16 28,-16 28,-16 190,-16 190,-16 196,-16 202,-22 202,-28 202,-28 202,-40 202,-40 202,-46 196,-52 190,-52\"/>\n",
       "<text text-anchor=\"middle\" x=\"109\" y=\"-30.3\" font-family=\"Helvetica,sans-Serif\" font-size=\"14.00\">query_social_distancing</text>\n",
       "</g>\n",
       "</g>\n",
       "</svg>\n"
      ],
      "text/plain": [
       "Project(name='project_social_distancing')"
      ]
     },
     "execution_count": 5,
     "metadata": {},
     "output_type": "execute_result"
    }
   ],
   "source": [
    "esp = esppy.ESP(hostname='http://localhost:9900')\n",
    "esp_project = esp.create_project('project_social_distancing', \n",
    "                                 n_threads=8, \n",
    "                                 pubsub='manual')\n",
    "esp_project.add_continuous_query('query_social_distancing')\n",
    "esp_project"
   ]
  },
  {
   "cell_type": "markdown",
   "metadata": {},
   "source": [
    "### Add an Window to receive the camera image"
   ]
  },
  {
   "cell_type": "code",
   "execution_count": 6,
   "metadata": {},
   "outputs": [
    {
     "data": {
      "image/svg+xml": [
       "<?xml version=\"1.0\" encoding=\"UTF-8\" standalone=\"no\"?>\n",
       "<!DOCTYPE svg PUBLIC \"-//W3C//DTD SVG 1.1//EN\"\n",
       " \"http://www.w3.org/Graphics/SVG/1.1/DTD/svg11.dtd\">\n",
       "<!-- Generated by graphviz version 2.30.1 (20180420.1509)\n",
       " -->\n",
       "<!-- Title: %3 Pages: 1 -->\n",
       "<svg width=\"226.0pt\" height=\"142.0pt\"\n",
       " viewBox=\"0.00 0.00 226.00 142.00\" xmlns=\"http://www.w3.org/2000/svg\" xmlns:xlink=\"http://www.w3.org/1999/xlink\">\n",
       "<g id=\"graph0\" class=\"graph\" transform=\"scale(1 1) rotate(0) translate(4 138)\">\n",
       "<title>%3</title>\n",
       "<polygon fill=\"white\" stroke=\"white\" points=\"-4,5 -4,-138 223,-138 223,5 -4,5\"/>\n",
       "<g id=\"clust1\" class=\"cluster\"><title>cluster_project_social_distancing</title>\n",
       "<path fill=\"#dadada\" stroke=\"#c0c0c0\" stroke-width=\"2\" d=\"M20,-8C20,-8 198,-8 198,-8 204,-8 210,-14 210,-20 210,-20 210,-114 210,-114 210,-120 204,-126 198,-126 198,-126 20,-126 20,-126 14,-126 8,-120 8,-114 8,-114 8,-20 8,-20 8,-14 14,-8 20,-8\"/>\n",
       "<text text-anchor=\"middle\" x=\"105\" y=\"-110.8\" font-family=\"Helvetica,sans-Serif\" font-size=\"14.00\">project_social_distancing</text>\n",
       "</g>\n",
       "<g id=\"clust3\" class=\"cluster\"><title>cluster_project_social_distancing_query_social_distancing</title>\n",
       "<path fill=\"#f0f0f0\" stroke=\"#a0a0a0\" d=\"M28,-16C28,-16 190,-16 190,-16 196,-16 202,-22 202,-28 202,-28 202,-83 202,-83 202,-89 196,-95 190,-95 190,-95 28,-95 28,-95 22,-95 16,-89 16,-83 16,-83 16,-28 16,-28 16,-22 22,-16 28,-16\"/>\n",
       "<text text-anchor=\"middle\" x=\"109\" y=\"-79.8\" font-family=\"Helvetica,sans-Serif\" font-size=\"14.00\">query_social_distancing</text>\n",
       "</g>\n",
       "<!-- project_social_distancing.query_social_distancing.w_image_input -->\n",
       "<g id=\"node1\" class=\"node\"><title>project_social_distancing.query_social_distancing.w_image_input</title>\n",
       "<polygon fill=\"#c8f0ff\" stroke=\"#58a0d3\" stroke-width=\"2\" points=\"181.5,-63.5 36.5,-63.5 36.5,-24.5 181.5,-24.5 181.5,-63.5\"/>\n",
       "<text text-anchor=\"middle\" x=\"109\" y=\"-40.3\" font-family=\"Helvetica,sans-Serif\" font-size=\"14.00\">w_image_input</text>\n",
       "</g>\n",
       "</g>\n",
       "</svg>\n"
      ],
      "text/plain": [
       "Project(name='project_social_distancing')"
      ]
     },
     "execution_count": 6,
     "metadata": {},
     "output_type": "execute_result"
    }
   ],
   "source": [
    "q1_vid_capture = esp.SourceWindow(schema=('id*:int64', 'image:blob'),\n",
    "                                  index_type='empty', \n",
    "                                  insert_only=True,\n",
    "                                  name='w_image_input')\n",
    "esp_project.add_window(q1_vid_capture, contquery='query_social_distancing')\n",
    "esp_project"
   ]
  },
  {
   "cell_type": "markdown",
   "metadata": {},
   "source": [
    "### Add an window to resize the image to fit the Tiny YOLOv2 model"
   ]
  },
  {
   "cell_type": "code",
   "execution_count": 7,
   "metadata": {},
   "outputs": [
    {
     "data": {
      "image/svg+xml": [
       "<?xml version=\"1.0\" encoding=\"UTF-8\" standalone=\"no\"?>\n",
       "<!DOCTYPE svg PUBLIC \"-//W3C//DTD SVG 1.1//EN\"\n",
       " \"http://www.w3.org/Graphics/SVG/1.1/DTD/svg11.dtd\">\n",
       "<!-- Generated by graphviz version 2.30.1 (20180420.1509)\n",
       " -->\n",
       "<!-- Title: %3 Pages: 1 -->\n",
       "<svg width=\"424.0pt\" height=\"142.0pt\"\n",
       " viewBox=\"0.00 0.00 424.00 142.00\" xmlns=\"http://www.w3.org/2000/svg\" xmlns:xlink=\"http://www.w3.org/1999/xlink\">\n",
       "<g id=\"graph0\" class=\"graph\" transform=\"scale(1 1) rotate(0) translate(4 138)\">\n",
       "<title>%3</title>\n",
       "<polygon fill=\"white\" stroke=\"white\" points=\"-4,5 -4,-138 421,-138 421,5 -4,5\"/>\n",
       "<g id=\"clust1\" class=\"cluster\"><title>cluster_project_social_distancing</title>\n",
       "<path fill=\"#dadada\" stroke=\"#c0c0c0\" stroke-width=\"2\" d=\"M20,-8C20,-8 396,-8 396,-8 402,-8 408,-14 408,-20 408,-20 408,-114 408,-114 408,-120 402,-126 396,-126 396,-126 20,-126 20,-126 14,-126 8,-120 8,-114 8,-114 8,-20 8,-20 8,-14 14,-8 20,-8\"/>\n",
       "<text text-anchor=\"middle\" x=\"105\" y=\"-110.8\" font-family=\"Helvetica,sans-Serif\" font-size=\"14.00\">project_social_distancing</text>\n",
       "</g>\n",
       "<g id=\"clust3\" class=\"cluster\"><title>cluster_project_social_distancing_query_social_distancing</title>\n",
       "<path fill=\"#f0f0f0\" stroke=\"#a0a0a0\" d=\"M28,-16C28,-16 388,-16 388,-16 394,-16 400,-22 400,-28 400,-28 400,-83 400,-83 400,-89 394,-95 388,-95 388,-95 28,-95 28,-95 22,-95 16,-89 16,-83 16,-83 16,-28 16,-28 16,-22 22,-16 28,-16\"/>\n",
       "<text text-anchor=\"middle\" x=\"109\" y=\"-79.8\" font-family=\"Helvetica,sans-Serif\" font-size=\"14.00\">query_social_distancing</text>\n",
       "</g>\n",
       "<!-- project_social_distancing.query_social_distancing.w_image_input -->\n",
       "<g id=\"node1\" class=\"node\"><title>project_social_distancing.query_social_distancing.w_image_input</title>\n",
       "<polygon fill=\"#c8f0ff\" stroke=\"#58a0d3\" stroke-width=\"2\" points=\"169.5,-63.5 24.5,-63.5 24.5,-24.5 169.5,-24.5 169.5,-63.5\"/>\n",
       "<text text-anchor=\"middle\" x=\"97\" y=\"-40.3\" font-family=\"Helvetica,sans-Serif\" font-size=\"14.00\">w_image_input</text>\n",
       "</g>\n",
       "<!-- project_social_distancing.query_social_distancing.w_image_resized -->\n",
       "<g id=\"node2\" class=\"node\"><title>project_social_distancing.query_social_distancing.w_image_resized</title>\n",
       "<polygon fill=\"#c8f0ff\" stroke=\"#58a0d3\" stroke-width=\"2\" points=\"392,-63.5 232,-63.5 232,-24.5 392,-24.5 392,-63.5\"/>\n",
       "<text text-anchor=\"middle\" x=\"312\" y=\"-40.3\" font-family=\"Helvetica,sans-Serif\" font-size=\"14.00\">w_image_resized</text>\n",
       "</g>\n",
       "<!-- project_social_distancing.query_social_distancing.w_image_input&#45;&gt;project_social_distancing.query_social_distancing.w_image_resized -->\n",
       "<g id=\"edge1\" class=\"edge\"><title>project_social_distancing.query_social_distancing.w_image_input&#45;&gt;project_social_distancing.query_social_distancing.w_image_resized</title>\n",
       "<path fill=\"none\" stroke=\"black\" d=\"M169.518,-44C186.289,-44 204.362,-44 221.799,-44\"/>\n",
       "<polygon fill=\"black\" stroke=\"black\" points=\"221.978,-47.5001 231.978,-44 221.977,-40.5001 221.978,-47.5001\"/>\n",
       "<text text-anchor=\"middle\" x=\"201\" y=\"-47.8\" font-family=\"Times,serif\" font-style=\"italic\" font-size=\"14.00\">data</text>\n",
       "</g>\n",
       "</g>\n",
       "</svg>\n"
      ],
      "text/plain": [
       "Project(name='project_social_distancing')"
      ]
     },
     "execution_count": 7,
     "metadata": {},
     "output_type": "execute_result"
    }
   ],
   "source": [
    "q1_resize = esp.CalculateWindow(schema=('id*:int64', 'image:blob', 'image_resized:blob'),\n",
    "                                algorithm='ImageProcessing', \n",
    "                                name='w_image_resized', \n",
    "                                function='resize',\n",
    "                                height=model_input_h, \n",
    "                                width=model_input_w, \n",
    "                                input_map=dict(imageInput='image'), \n",
    "                                output_map=dict(imageOutput='image_resized'))\n",
    "esp_project.add_window(q1_resize, 'query_social_distancing')\n",
    "q1_vid_capture.add_target(q1_resize, role='data')\n",
    "esp_project"
   ]
  },
  {
   "cell_type": "markdown",
   "metadata": {},
   "source": [
    "### Add two windows to load and deploy the model"
   ]
  },
  {
   "cell_type": "code",
   "execution_count": 8,
   "metadata": {},
   "outputs": [
    {
     "data": {
      "image/svg+xml": [
       "<?xml version=\"1.0\" encoding=\"UTF-8\" standalone=\"no\"?>\n",
       "<!DOCTYPE svg PUBLIC \"-//W3C//DTD SVG 1.1//EN\"\n",
       " \"http://www.w3.org/Graphics/SVG/1.1/DTD/svg11.dtd\">\n",
       "<!-- Generated by graphviz version 2.30.1 (20180420.1509)\n",
       " -->\n",
       "<!-- Title: %3 Pages: 1 -->\n",
       "<svg width=\"470.0pt\" height=\"199.0pt\"\n",
       " viewBox=\"0.00 0.00 470.00 199.00\" xmlns=\"http://www.w3.org/2000/svg\" xmlns:xlink=\"http://www.w3.org/1999/xlink\">\n",
       "<g id=\"graph0\" class=\"graph\" transform=\"scale(1 1) rotate(0) translate(4 195)\">\n",
       "<title>%3</title>\n",
       "<polygon fill=\"white\" stroke=\"white\" points=\"-4,5 -4,-195 467,-195 467,5 -4,5\"/>\n",
       "<g id=\"clust1\" class=\"cluster\"><title>cluster_project_social_distancing</title>\n",
       "<path fill=\"#dadada\" stroke=\"#c0c0c0\" stroke-width=\"2\" d=\"M20,-8C20,-8 442,-8 442,-8 448,-8 454,-14 454,-20 454,-20 454,-171 454,-171 454,-177 448,-183 442,-183 442,-183 20,-183 20,-183 14,-183 8,-177 8,-171 8,-171 8,-20 8,-20 8,-14 14,-8 20,-8\"/>\n",
       "<text text-anchor=\"middle\" x=\"105\" y=\"-167.8\" font-family=\"Helvetica,sans-Serif\" font-size=\"14.00\">project_social_distancing</text>\n",
       "</g>\n",
       "<g id=\"clust3\" class=\"cluster\"><title>cluster_project_social_distancing_query_social_distancing</title>\n",
       "<path fill=\"#f0f0f0\" stroke=\"#a0a0a0\" d=\"M28,-16C28,-16 434,-16 434,-16 440,-16 446,-22 446,-28 446,-28 446,-140 446,-140 446,-146 440,-152 434,-152 434,-152 28,-152 28,-152 22,-152 16,-146 16,-140 16,-140 16,-28 16,-28 16,-22 22,-16 28,-16\"/>\n",
       "<text text-anchor=\"middle\" x=\"109\" y=\"-136.8\" font-family=\"Helvetica,sans-Serif\" font-size=\"14.00\">query_social_distancing</text>\n",
       "</g>\n",
       "<!-- project_social_distancing.query_social_distancing.w_deploy_model -->\n",
       "<g id=\"node1\" class=\"node\"><title>project_social_distancing.query_social_distancing.w_deploy_model</title>\n",
       "<polygon fill=\"#c8f0ff\" stroke=\"#58a0d3\" stroke-width=\"2\" points=\"181.5,-120.5 24.5,-120.5 24.5,-81.5 181.5,-81.5 181.5,-120.5\"/>\n",
       "<text text-anchor=\"middle\" x=\"103\" y=\"-97.3\" font-family=\"Helvetica,sans-Serif\" font-size=\"14.00\">w_deploy_model</text>\n",
       "</g>\n",
       "<!-- project_social_distancing.query_social_distancing.w_read_yolo_model -->\n",
       "<g id=\"node2\" class=\"node\"><title>project_social_distancing.query_social_distancing.w_read_yolo_model</title>\n",
       "<polygon fill=\"#c8f0ff\" stroke=\"#58a0d3\" stroke-width=\"2\" points=\"437.5,-120.5 258.5,-120.5 258.5,-81.5 437.5,-81.5 437.5,-120.5\"/>\n",
       "<text text-anchor=\"middle\" x=\"348\" y=\"-97.3\" font-family=\"Helvetica,sans-Serif\" font-size=\"14.00\">w_read_yolo_model</text>\n",
       "</g>\n",
       "<!-- project_social_distancing.query_social_distancing.w_deploy_model&#45;&gt;project_social_distancing.query_social_distancing.w_read_yolo_model -->\n",
       "<g id=\"edge1\" class=\"edge\"><title>project_social_distancing.query_social_distancing.w_deploy_model&#45;&gt;project_social_distancing.query_social_distancing.w_read_yolo_model</title>\n",
       "<path fill=\"none\" stroke=\"black\" d=\"M181.555,-101C202.754,-101 226.016,-101 248.227,-101\"/>\n",
       "<polygon fill=\"black\" stroke=\"black\" points=\"248.348,-104.5 258.347,-101 248.347,-97.5001 248.348,-104.5\"/>\n",
       "<text text-anchor=\"middle\" x=\"220\" y=\"-104.8\" font-family=\"Times,serif\" font-style=\"italic\" font-size=\"14.00\">request</text>\n",
       "</g>\n",
       "<!-- project_social_distancing.query_social_distancing.w_image_input -->\n",
       "<g id=\"node3\" class=\"node\"><title>project_social_distancing.query_social_distancing.w_image_input</title>\n",
       "<polygon fill=\"#c8f0ff\" stroke=\"#58a0d3\" stroke-width=\"2\" points=\"175.5,-63.5 30.5,-63.5 30.5,-24.5 175.5,-24.5 175.5,-63.5\"/>\n",
       "<text text-anchor=\"middle\" x=\"103\" y=\"-40.3\" font-family=\"Helvetica,sans-Serif\" font-size=\"14.00\">w_image_input</text>\n",
       "</g>\n",
       "<!-- project_social_distancing.query_social_distancing.w_image_resized -->\n",
       "<g id=\"node4\" class=\"node\"><title>project_social_distancing.query_social_distancing.w_image_resized</title>\n",
       "<polygon fill=\"#c8f0ff\" stroke=\"#58a0d3\" stroke-width=\"2\" points=\"428,-63.5 268,-63.5 268,-24.5 428,-24.5 428,-63.5\"/>\n",
       "<text text-anchor=\"middle\" x=\"348\" y=\"-40.3\" font-family=\"Helvetica,sans-Serif\" font-size=\"14.00\">w_image_resized</text>\n",
       "</g>\n",
       "<!-- project_social_distancing.query_social_distancing.w_image_input&#45;&gt;project_social_distancing.query_social_distancing.w_image_resized -->\n",
       "<g id=\"edge2\" class=\"edge\"><title>project_social_distancing.query_social_distancing.w_image_input&#45;&gt;project_social_distancing.query_social_distancing.w_image_resized</title>\n",
       "<path fill=\"none\" stroke=\"black\" d=\"M175.594,-44C201.29,-44 230.592,-44 257.611,-44\"/>\n",
       "<polygon fill=\"black\" stroke=\"black\" points=\"257.842,-47.5001 267.842,-44 257.842,-40.5001 257.842,-47.5001\"/>\n",
       "<text text-anchor=\"middle\" x=\"220\" y=\"-47.8\" font-family=\"Times,serif\" font-style=\"italic\" font-size=\"14.00\">data</text>\n",
       "</g>\n",
       "</g>\n",
       "</svg>\n"
      ],
      "text/plain": [
       "Project(name='project_social_distancing')"
      ]
     },
     "execution_count": 8,
     "metadata": {},
     "output_type": "execute_result"
    }
   ],
   "source": [
    "# Window: Model Reader\n",
    "q1_model_reader = esp.ModelReaderWindow(name='w_read_yolo_model')\n",
    "esp_project.add_window(q1_model_reader, contquery='query_social_distancing')\n",
    "\n",
    "# Window: Model Request\n",
    "q1_model_request = esp.SourceWindow(schema=('req_id*:int64', 'req_key:string', 'req_val:string'),\n",
    "                                    index_type='empty', \n",
    "                                    insert_only=True,\n",
    "                                    name='w_deploy_model')\n",
    "esp_project.add_window(q1_model_request, contquery='query_social_distancing')\n",
    "q1_model_request.add_target(q1_model_reader, role='request')\n",
    "esp_project"
   ]
  },
  {
   "cell_type": "markdown",
   "metadata": {},
   "source": [
    "### Add a window to use the model to score the images from the camera"
   ]
  },
  {
   "cell_type": "code",
   "execution_count": 9,
   "metadata": {},
   "outputs": [
    {
     "data": {
      "image/svg+xml": [
       "<?xml version=\"1.0\" encoding=\"UTF-8\" standalone=\"no\"?>\n",
       "<!DOCTYPE svg PUBLIC \"-//W3C//DTD SVG 1.1//EN\"\n",
       " \"http://www.w3.org/Graphics/SVG/1.1/DTD/svg11.dtd\">\n",
       "<!-- Generated by graphviz version 2.30.1 (20180420.1509)\n",
       " -->\n",
       "<!-- Title: %3 Pages: 1 -->\n",
       "<svg width=\"688.0pt\" height=\"199.0pt\"\n",
       " viewBox=\"0.00 0.00 688.00 199.00\" xmlns=\"http://www.w3.org/2000/svg\" xmlns:xlink=\"http://www.w3.org/1999/xlink\">\n",
       "<g id=\"graph0\" class=\"graph\" transform=\"scale(1 1) rotate(0) translate(4 195)\">\n",
       "<title>%3</title>\n",
       "<polygon fill=\"white\" stroke=\"white\" points=\"-4,5 -4,-195 685,-195 685,5 -4,5\"/>\n",
       "<g id=\"clust1\" class=\"cluster\"><title>cluster_project_social_distancing</title>\n",
       "<path fill=\"#dadada\" stroke=\"#c0c0c0\" stroke-width=\"2\" d=\"M20,-8C20,-8 660,-8 660,-8 666,-8 672,-14 672,-20 672,-20 672,-171 672,-171 672,-177 666,-183 660,-183 660,-183 20,-183 20,-183 14,-183 8,-177 8,-171 8,-171 8,-20 8,-20 8,-14 14,-8 20,-8\"/>\n",
       "<text text-anchor=\"middle\" x=\"105\" y=\"-167.8\" font-family=\"Helvetica,sans-Serif\" font-size=\"14.00\">project_social_distancing</text>\n",
       "</g>\n",
       "<g id=\"clust3\" class=\"cluster\"><title>cluster_project_social_distancing_query_social_distancing</title>\n",
       "<path fill=\"#f0f0f0\" stroke=\"#a0a0a0\" d=\"M28,-16C28,-16 652,-16 652,-16 658,-16 664,-22 664,-28 664,-28 664,-140 664,-140 664,-146 658,-152 652,-152 652,-152 28,-152 28,-152 22,-152 16,-146 16,-140 16,-140 16,-28 16,-28 16,-22 22,-16 28,-16\"/>\n",
       "<text text-anchor=\"middle\" x=\"109\" y=\"-136.8\" font-family=\"Helvetica,sans-Serif\" font-size=\"14.00\">query_social_distancing</text>\n",
       "</g>\n",
       "<!-- project_social_distancing.query_social_distancing.w_deploy_model -->\n",
       "<g id=\"node1\" class=\"node\"><title>project_social_distancing.query_social_distancing.w_deploy_model</title>\n",
       "<polygon fill=\"#c8f0ff\" stroke=\"#58a0d3\" stroke-width=\"2\" points=\"181.5,-120.5 24.5,-120.5 24.5,-81.5 181.5,-81.5 181.5,-120.5\"/>\n",
       "<text text-anchor=\"middle\" x=\"103\" y=\"-97.3\" font-family=\"Helvetica,sans-Serif\" font-size=\"14.00\">w_deploy_model</text>\n",
       "</g>\n",
       "<!-- project_social_distancing.query_social_distancing.w_read_yolo_model -->\n",
       "<g id=\"node2\" class=\"node\"><title>project_social_distancing.query_social_distancing.w_read_yolo_model</title>\n",
       "<polygon fill=\"#c8f0ff\" stroke=\"#58a0d3\" stroke-width=\"2\" points=\"437.5,-120.5 258.5,-120.5 258.5,-81.5 437.5,-81.5 437.5,-120.5\"/>\n",
       "<text text-anchor=\"middle\" x=\"348\" y=\"-97.3\" font-family=\"Helvetica,sans-Serif\" font-size=\"14.00\">w_read_yolo_model</text>\n",
       "</g>\n",
       "<!-- project_social_distancing.query_social_distancing.w_deploy_model&#45;&gt;project_social_distancing.query_social_distancing.w_read_yolo_model -->\n",
       "<g id=\"edge1\" class=\"edge\"><title>project_social_distancing.query_social_distancing.w_deploy_model&#45;&gt;project_social_distancing.query_social_distancing.w_read_yolo_model</title>\n",
       "<path fill=\"none\" stroke=\"black\" d=\"M181.555,-101C202.754,-101 226.016,-101 248.227,-101\"/>\n",
       "<polygon fill=\"black\" stroke=\"black\" points=\"248.348,-104.5 258.347,-101 248.347,-97.5001 248.348,-104.5\"/>\n",
       "<text text-anchor=\"middle\" x=\"220\" y=\"-104.8\" font-family=\"Times,serif\" font-style=\"italic\" font-size=\"14.00\">request</text>\n",
       "</g>\n",
       "<!-- project_social_distancing.query_social_distancing.w_score_image -->\n",
       "<g id=\"node5\" class=\"node\"><title>project_social_distancing.query_social_distancing.w_score_image</title>\n",
       "<polygon fill=\"#c8f0ff\" stroke=\"#58a0d3\" stroke-width=\"2\" points=\"656,-87.5 508,-87.5 508,-48.5 656,-48.5 656,-87.5\"/>\n",
       "<text text-anchor=\"middle\" x=\"582\" y=\"-64.3\" font-family=\"Helvetica,sans-Serif\" font-size=\"14.00\">w_score_image</text>\n",
       "</g>\n",
       "<!-- project_social_distancing.query_social_distancing.w_read_yolo_model&#45;&gt;project_social_distancing.query_social_distancing.w_score_image -->\n",
       "<g id=\"edge4\" class=\"edge\"><title>project_social_distancing.query_social_distancing.w_read_yolo_model&#45;&gt;project_social_distancing.query_social_distancing.w_score_image</title>\n",
       "<path fill=\"none\" stroke=\"black\" d=\"M437.702,-88.3829C457.419,-85.5784 478.251,-82.6152 497.74,-79.843\"/>\n",
       "<polygon fill=\"black\" stroke=\"black\" points=\"498.388,-83.2861 507.796,-78.4126 497.403,-76.3559 498.388,-83.2861\"/>\n",
       "<text text-anchor=\"middle\" x=\"473\" y=\"-88.8\" font-family=\"Times,serif\" font-style=\"italic\" font-size=\"14.00\">model</text>\n",
       "</g>\n",
       "<!-- project_social_distancing.query_social_distancing.w_image_input -->\n",
       "<g id=\"node3\" class=\"node\"><title>project_social_distancing.query_social_distancing.w_image_input</title>\n",
       "<polygon fill=\"#c8f0ff\" stroke=\"#58a0d3\" stroke-width=\"2\" points=\"175.5,-63.5 30.5,-63.5 30.5,-24.5 175.5,-24.5 175.5,-63.5\"/>\n",
       "<text text-anchor=\"middle\" x=\"103\" y=\"-40.3\" font-family=\"Helvetica,sans-Serif\" font-size=\"14.00\">w_image_input</text>\n",
       "</g>\n",
       "<!-- project_social_distancing.query_social_distancing.w_image_resized -->\n",
       "<g id=\"node4\" class=\"node\"><title>project_social_distancing.query_social_distancing.w_image_resized</title>\n",
       "<polygon fill=\"#c8f0ff\" stroke=\"#58a0d3\" stroke-width=\"2\" points=\"428,-63.5 268,-63.5 268,-24.5 428,-24.5 428,-63.5\"/>\n",
       "<text text-anchor=\"middle\" x=\"348\" y=\"-40.3\" font-family=\"Helvetica,sans-Serif\" font-size=\"14.00\">w_image_resized</text>\n",
       "</g>\n",
       "<!-- project_social_distancing.query_social_distancing.w_image_input&#45;&gt;project_social_distancing.query_social_distancing.w_image_resized -->\n",
       "<g id=\"edge2\" class=\"edge\"><title>project_social_distancing.query_social_distancing.w_image_input&#45;&gt;project_social_distancing.query_social_distancing.w_image_resized</title>\n",
       "<path fill=\"none\" stroke=\"black\" d=\"M175.594,-44C201.29,-44 230.592,-44 257.611,-44\"/>\n",
       "<polygon fill=\"black\" stroke=\"black\" points=\"257.842,-47.5001 267.842,-44 257.842,-40.5001 257.842,-47.5001\"/>\n",
       "<text text-anchor=\"middle\" x=\"220\" y=\"-47.8\" font-family=\"Times,serif\" font-style=\"italic\" font-size=\"14.00\">data</text>\n",
       "</g>\n",
       "<!-- project_social_distancing.query_social_distancing.w_image_resized&#45;&gt;project_social_distancing.query_social_distancing.w_score_image -->\n",
       "<g id=\"edge3\" class=\"edge\"><title>project_social_distancing.query_social_distancing.w_image_resized&#45;&gt;project_social_distancing.query_social_distancing.w_score_image</title>\n",
       "<path fill=\"none\" stroke=\"black\" d=\"M428.192,-52.1923C450.504,-54.5004 474.842,-57.0181 497.402,-59.3519\"/>\n",
       "<polygon fill=\"black\" stroke=\"black\" points=\"497.321,-62.8622 507.629,-60.4099 498.042,-55.8994 497.321,-62.8622\"/>\n",
       "<text text-anchor=\"middle\" x=\"473\" y=\"-62.8\" font-family=\"Times,serif\" font-style=\"italic\" font-size=\"14.00\">data</text>\n",
       "</g>\n",
       "</g>\n",
       "</svg>\n"
      ],
      "text/plain": [
       "Project(name='project_social_distancing')"
      ]
     },
     "execution_count": 9,
     "metadata": {},
     "output_type": "execute_result"
    }
   ],
   "source": [
    "def score_window_fields(number_objects):\n",
    "    _field = \"id*:int64,image:blob,image_resized:blob,_nObjects_:double,\"\n",
    "    for obj in range(0,number_objects):\n",
    "        _field += \"_Object\" + str(obj) + \"_:string,\"\n",
    "        _field += \"_P_Object\" + str(obj) + \"_:double,\"\n",
    "        _field += \"_Object\" + str(obj) + \"_x:double,\"\n",
    "        _field += \"_Object\" + str(obj) + \"_y:double,\"\n",
    "        _field += \"_Object\" + str(obj) + \"_width:double,\"\n",
    "        _field += \"_Object\" + str(obj) + \"_height:double,\"\n",
    "    return _field[:-1]\n",
    "q1_model_score = esp.ScoreWindow(schema=score_window_fields(max_number_objects),\n",
    "                                 name='w_score_image')\n",
    "q1_model_score.add_offline_model(model_type='astore', \n",
    "                                 input_map=dict(_image_='image_resized'))\n",
    "esp_project.add_window(q1_model_score, contquery='query_social_distancing')\n",
    "q1_resize.add_target(q1_model_score, role='data')\n",
    "q1_model_reader.add_target(q1_model_score, role='model')\n",
    "esp_project"
   ]
  },
  {
   "cell_type": "markdown",
   "metadata": {},
   "source": [
    "### Add a window to perform image transformation, distance calculation and crowd detection\n",
    "* Window receives the detected objects and runs a Python code\n",
    "* Initialize the window with user inputs\n",
    "* Image shape, homography matrix, maximum distances to consider, minimum crowd size to consider"
   ]
  },
  {
   "cell_type": "code",
   "execution_count": 10,
   "metadata": {},
   "outputs": [
    {
     "data": {
      "image/svg+xml": [
       "<?xml version=\"1.0\" encoding=\"UTF-8\" standalone=\"no\"?>\n",
       "<!DOCTYPE svg PUBLIC \"-//W3C//DTD SVG 1.1//EN\"\n",
       " \"http://www.w3.org/Graphics/SVG/1.1/DTD/svg11.dtd\">\n",
       "<!-- Generated by graphviz version 2.30.1 (20180420.1509)\n",
       " -->\n",
       "<!-- Title: %3 Pages: 1 -->\n",
       "<svg width=\"986.0pt\" height=\"199.0pt\"\n",
       " viewBox=\"0.00 0.00 986.00 199.00\" xmlns=\"http://www.w3.org/2000/svg\" xmlns:xlink=\"http://www.w3.org/1999/xlink\">\n",
       "<g id=\"graph0\" class=\"graph\" transform=\"scale(1 1) rotate(0) translate(4 195)\">\n",
       "<title>%3</title>\n",
       "<polygon fill=\"white\" stroke=\"white\" points=\"-4,5 -4,-195 983,-195 983,5 -4,5\"/>\n",
       "<g id=\"clust1\" class=\"cluster\"><title>cluster_project_social_distancing</title>\n",
       "<path fill=\"#dadada\" stroke=\"#c0c0c0\" stroke-width=\"2\" d=\"M20,-8C20,-8 958,-8 958,-8 964,-8 970,-14 970,-20 970,-20 970,-171 970,-171 970,-177 964,-183 958,-183 958,-183 20,-183 20,-183 14,-183 8,-177 8,-171 8,-171 8,-20 8,-20 8,-14 14,-8 20,-8\"/>\n",
       "<text text-anchor=\"middle\" x=\"105\" y=\"-167.8\" font-family=\"Helvetica,sans-Serif\" font-size=\"14.00\">project_social_distancing</text>\n",
       "</g>\n",
       "<g id=\"clust3\" class=\"cluster\"><title>cluster_project_social_distancing_query_social_distancing</title>\n",
       "<path fill=\"#f0f0f0\" stroke=\"#a0a0a0\" d=\"M28,-16C28,-16 950,-16 950,-16 956,-16 962,-22 962,-28 962,-28 962,-140 962,-140 962,-146 956,-152 950,-152 950,-152 28,-152 28,-152 22,-152 16,-146 16,-140 16,-140 16,-28 16,-28 16,-22 22,-16 28,-16\"/>\n",
       "<text text-anchor=\"middle\" x=\"109\" y=\"-136.8\" font-family=\"Helvetica,sans-Serif\" font-size=\"14.00\">query_social_distancing</text>\n",
       "</g>\n",
       "<!-- project_social_distancing.query_social_distancing.w_deploy_model -->\n",
       "<g id=\"node1\" class=\"node\"><title>project_social_distancing.query_social_distancing.w_deploy_model</title>\n",
       "<polygon fill=\"#c8f0ff\" stroke=\"#58a0d3\" stroke-width=\"2\" points=\"181.5,-120.5 24.5,-120.5 24.5,-81.5 181.5,-81.5 181.5,-120.5\"/>\n",
       "<text text-anchor=\"middle\" x=\"103\" y=\"-97.3\" font-family=\"Helvetica,sans-Serif\" font-size=\"14.00\">w_deploy_model</text>\n",
       "</g>\n",
       "<!-- project_social_distancing.query_social_distancing.w_read_yolo_model -->\n",
       "<g id=\"node2\" class=\"node\"><title>project_social_distancing.query_social_distancing.w_read_yolo_model</title>\n",
       "<polygon fill=\"#c8f0ff\" stroke=\"#58a0d3\" stroke-width=\"2\" points=\"437.5,-120.5 258.5,-120.5 258.5,-81.5 437.5,-81.5 437.5,-120.5\"/>\n",
       "<text text-anchor=\"middle\" x=\"348\" y=\"-97.3\" font-family=\"Helvetica,sans-Serif\" font-size=\"14.00\">w_read_yolo_model</text>\n",
       "</g>\n",
       "<!-- project_social_distancing.query_social_distancing.w_deploy_model&#45;&gt;project_social_distancing.query_social_distancing.w_read_yolo_model -->\n",
       "<g id=\"edge1\" class=\"edge\"><title>project_social_distancing.query_social_distancing.w_deploy_model&#45;&gt;project_social_distancing.query_social_distancing.w_read_yolo_model</title>\n",
       "<path fill=\"none\" stroke=\"black\" d=\"M181.555,-101C202.754,-101 226.016,-101 248.227,-101\"/>\n",
       "<polygon fill=\"black\" stroke=\"black\" points=\"248.348,-104.5 258.347,-101 248.347,-97.5001 248.348,-104.5\"/>\n",
       "<text text-anchor=\"middle\" x=\"220\" y=\"-104.8\" font-family=\"Times,serif\" font-style=\"italic\" font-size=\"14.00\">request</text>\n",
       "</g>\n",
       "<!-- project_social_distancing.query_social_distancing.w_score_image -->\n",
       "<g id=\"node5\" class=\"node\"><title>project_social_distancing.query_social_distancing.w_score_image</title>\n",
       "<polygon fill=\"#c8f0ff\" stroke=\"#58a0d3\" stroke-width=\"2\" points=\"656,-87.5 508,-87.5 508,-48.5 656,-48.5 656,-87.5\"/>\n",
       "<text text-anchor=\"middle\" x=\"582\" y=\"-64.3\" font-family=\"Helvetica,sans-Serif\" font-size=\"14.00\">w_score_image</text>\n",
       "</g>\n",
       "<!-- project_social_distancing.query_social_distancing.w_read_yolo_model&#45;&gt;project_social_distancing.query_social_distancing.w_score_image -->\n",
       "<g id=\"edge4\" class=\"edge\"><title>project_social_distancing.query_social_distancing.w_read_yolo_model&#45;&gt;project_social_distancing.query_social_distancing.w_score_image</title>\n",
       "<path fill=\"none\" stroke=\"black\" d=\"M437.702,-88.3829C457.419,-85.5784 478.251,-82.6152 497.74,-79.843\"/>\n",
       "<polygon fill=\"black\" stroke=\"black\" points=\"498.388,-83.2861 507.796,-78.4126 497.403,-76.3559 498.388,-83.2861\"/>\n",
       "<text text-anchor=\"middle\" x=\"473\" y=\"-88.8\" font-family=\"Times,serif\" font-style=\"italic\" font-size=\"14.00\">model</text>\n",
       "</g>\n",
       "<!-- project_social_distancing.query_social_distancing.w_image_input -->\n",
       "<g id=\"node3\" class=\"node\"><title>project_social_distancing.query_social_distancing.w_image_input</title>\n",
       "<polygon fill=\"#c8f0ff\" stroke=\"#58a0d3\" stroke-width=\"2\" points=\"175.5,-63.5 30.5,-63.5 30.5,-24.5 175.5,-24.5 175.5,-63.5\"/>\n",
       "<text text-anchor=\"middle\" x=\"103\" y=\"-40.3\" font-family=\"Helvetica,sans-Serif\" font-size=\"14.00\">w_image_input</text>\n",
       "</g>\n",
       "<!-- project_social_distancing.query_social_distancing.w_image_resized -->\n",
       "<g id=\"node4\" class=\"node\"><title>project_social_distancing.query_social_distancing.w_image_resized</title>\n",
       "<polygon fill=\"#c8f0ff\" stroke=\"#58a0d3\" stroke-width=\"2\" points=\"428,-63.5 268,-63.5 268,-24.5 428,-24.5 428,-63.5\"/>\n",
       "<text text-anchor=\"middle\" x=\"348\" y=\"-40.3\" font-family=\"Helvetica,sans-Serif\" font-size=\"14.00\">w_image_resized</text>\n",
       "</g>\n",
       "<!-- project_social_distancing.query_social_distancing.w_image_input&#45;&gt;project_social_distancing.query_social_distancing.w_image_resized -->\n",
       "<g id=\"edge2\" class=\"edge\"><title>project_social_distancing.query_social_distancing.w_image_input&#45;&gt;project_social_distancing.query_social_distancing.w_image_resized</title>\n",
       "<path fill=\"none\" stroke=\"black\" d=\"M175.594,-44C201.29,-44 230.592,-44 257.611,-44\"/>\n",
       "<polygon fill=\"black\" stroke=\"black\" points=\"257.842,-47.5001 267.842,-44 257.842,-40.5001 257.842,-47.5001\"/>\n",
       "<text text-anchor=\"middle\" x=\"220\" y=\"-47.8\" font-family=\"Times,serif\" font-style=\"italic\" font-size=\"14.00\">data</text>\n",
       "</g>\n",
       "<!-- project_social_distancing.query_social_distancing.w_image_resized&#45;&gt;project_social_distancing.query_social_distancing.w_score_image -->\n",
       "<g id=\"edge3\" class=\"edge\"><title>project_social_distancing.query_social_distancing.w_image_resized&#45;&gt;project_social_distancing.query_social_distancing.w_score_image</title>\n",
       "<path fill=\"none\" stroke=\"black\" d=\"M428.192,-52.1923C450.504,-54.5004 474.842,-57.0181 497.402,-59.3519\"/>\n",
       "<polygon fill=\"black\" stroke=\"black\" points=\"497.321,-62.8622 507.629,-60.4099 498.042,-55.8994 497.321,-62.8622\"/>\n",
       "<text text-anchor=\"middle\" x=\"473\" y=\"-62.8\" font-family=\"Times,serif\" font-style=\"italic\" font-size=\"14.00\">data</text>\n",
       "</g>\n",
       "<!-- project_social_distancing.query_social_distancing.w_calculations_visualization -->\n",
       "<g id=\"node6\" class=\"node\"><title>project_social_distancing.query_social_distancing.w_calculations_visualization</title>\n",
       "<polygon fill=\"#c8f0ff\" stroke=\"#58a0d3\" stroke-width=\"2\" points=\"954,-87.5 718,-87.5 718,-48.5 954,-48.5 954,-87.5\"/>\n",
       "<text text-anchor=\"middle\" x=\"836\" y=\"-64.3\" font-family=\"Helvetica,sans-Serif\" font-size=\"14.00\">w_calculations_visualization</text>\n",
       "</g>\n",
       "<!-- project_social_distancing.query_social_distancing.w_score_image&#45;&gt;project_social_distancing.query_social_distancing.w_calculations_visualization -->\n",
       "<g id=\"edge5\" class=\"edge\"><title>project_social_distancing.query_social_distancing.w_score_image&#45;&gt;project_social_distancing.query_social_distancing.w_calculations_visualization</title>\n",
       "<path fill=\"none\" stroke=\"black\" d=\"M656.227,-68C672.384,-68 689.953,-68 707.561,-68\"/>\n",
       "<polygon fill=\"black\" stroke=\"black\" points=\"707.921,-71.5001 717.921,-68 707.921,-64.5001 707.921,-71.5001\"/>\n",
       "<text text-anchor=\"middle\" x=\"687\" y=\"-71.8\" font-family=\"Times,serif\" font-style=\"italic\" font-size=\"14.00\">data</text>\n",
       "</g>\n",
       "</g>\n",
       "</svg>\n"
      ],
      "text/plain": [
       "Project(name='project_social_distancing')"
      ]
     },
     "execution_count": 10,
     "metadata": {},
     "output_type": "execute_result"
    }
   ],
   "source": [
    "q1_wpython = esp.PythonHelper(schema=('id*:int64', 'scored_image:blob'), \n",
    "                              index_type='empty', \n",
    "                              produces_only_inserts=True, \n",
    "                              name='w_calculations_visualization',\n",
    "                              pubsub=True)\n",
    "q1_wpython.add_mas_info('module_1', 'func_social_distancing', 'w_score_image', code_file='./social_distancing.py', inits=dict(image_shape=(input_h,input_w,3), \n",
    "                                                                                                                              F=F.tolist(), \n",
    "                                                                                                                              max_distance_detection=max_distance_detection,\n",
    "                                                                                                                              max_distance_detection_crowd=max_distance_detection_crowd,\n",
    "                                                                                                                              min_crowd_size=min_crowd_size,\n",
    "                                                                                                                              map_view=map_view))\n",
    "esp_project.add_window(q1_wpython, contquery='query_social_distancing')\n",
    "q1_model_score.add_target(q1_wpython, role='data')\n",
    "esp_project"
   ]
  },
  {
   "cell_type": "markdown",
   "metadata": {},
   "source": [
    "### Load the SAS Event Stream Processing project"
   ]
  },
  {
   "cell_type": "code",
   "execution_count": 11,
   "metadata": {},
   "outputs": [
    {
     "data": {
      "image/svg+xml": [
       "<?xml version=\"1.0\" encoding=\"UTF-8\" standalone=\"no\"?>\n",
       "<!DOCTYPE svg PUBLIC \"-//W3C//DTD SVG 1.1//EN\"\n",
       " \"http://www.w3.org/Graphics/SVG/1.1/DTD/svg11.dtd\">\n",
       "<!-- Generated by graphviz version 2.30.1 (20180420.1509)\n",
       " -->\n",
       "<!-- Title: %3 Pages: 1 -->\n",
       "<svg width=\"986.0pt\" height=\"199.0pt\"\n",
       " viewBox=\"0.00 0.00 986.00 199.00\" xmlns=\"http://www.w3.org/2000/svg\" xmlns:xlink=\"http://www.w3.org/1999/xlink\">\n",
       "<g id=\"graph0\" class=\"graph\" transform=\"scale(1 1) rotate(0) translate(4 195)\">\n",
       "<title>%3</title>\n",
       "<polygon fill=\"white\" stroke=\"white\" points=\"-4,5 -4,-195 983,-195 983,5 -4,5\"/>\n",
       "<g id=\"clust1\" class=\"cluster\"><title>cluster_project_social_distancing</title>\n",
       "<path fill=\"#dadada\" stroke=\"#c0c0c0\" stroke-width=\"2\" d=\"M20,-8C20,-8 958,-8 958,-8 964,-8 970,-14 970,-20 970,-20 970,-171 970,-171 970,-177 964,-183 958,-183 958,-183 20,-183 20,-183 14,-183 8,-177 8,-171 8,-171 8,-20 8,-20 8,-14 14,-8 20,-8\"/>\n",
       "<text text-anchor=\"middle\" x=\"105\" y=\"-167.8\" font-family=\"Helvetica,sans-Serif\" font-size=\"14.00\">project_social_distancing</text>\n",
       "</g>\n",
       "<g id=\"clust3\" class=\"cluster\"><title>cluster_project_social_distancing_query_social_distancing</title>\n",
       "<path fill=\"#f0f0f0\" stroke=\"#a0a0a0\" d=\"M28,-16C28,-16 950,-16 950,-16 956,-16 962,-22 962,-28 962,-28 962,-140 962,-140 962,-146 956,-152 950,-152 950,-152 28,-152 28,-152 22,-152 16,-146 16,-140 16,-140 16,-28 16,-28 16,-22 22,-16 28,-16\"/>\n",
       "<text text-anchor=\"middle\" x=\"109\" y=\"-136.8\" font-family=\"Helvetica,sans-Serif\" font-size=\"14.00\">query_social_distancing</text>\n",
       "</g>\n",
       "<!-- project_social_distancing.query_social_distancing.w_deploy_model -->\n",
       "<g id=\"node1\" class=\"node\"><title>project_social_distancing.query_social_distancing.w_deploy_model</title>\n",
       "<polygon fill=\"#c8f0ff\" stroke=\"#58a0d3\" stroke-width=\"2\" points=\"181.5,-120.5 24.5,-120.5 24.5,-81.5 181.5,-81.5 181.5,-120.5\"/>\n",
       "<text text-anchor=\"middle\" x=\"103\" y=\"-97.3\" font-family=\"Helvetica,sans-Serif\" font-size=\"14.00\">w_deploy_model</text>\n",
       "</g>\n",
       "<!-- project_social_distancing.query_social_distancing.w_read_yolo_model -->\n",
       "<g id=\"node2\" class=\"node\"><title>project_social_distancing.query_social_distancing.w_read_yolo_model</title>\n",
       "<polygon fill=\"#c8f0ff\" stroke=\"#58a0d3\" stroke-width=\"2\" points=\"437.5,-120.5 258.5,-120.5 258.5,-81.5 437.5,-81.5 437.5,-120.5\"/>\n",
       "<text text-anchor=\"middle\" x=\"348\" y=\"-97.3\" font-family=\"Helvetica,sans-Serif\" font-size=\"14.00\">w_read_yolo_model</text>\n",
       "</g>\n",
       "<!-- project_social_distancing.query_social_distancing.w_deploy_model&#45;&gt;project_social_distancing.query_social_distancing.w_read_yolo_model -->\n",
       "<g id=\"edge1\" class=\"edge\"><title>project_social_distancing.query_social_distancing.w_deploy_model&#45;&gt;project_social_distancing.query_social_distancing.w_read_yolo_model</title>\n",
       "<path fill=\"none\" stroke=\"black\" d=\"M181.555,-101C202.754,-101 226.016,-101 248.227,-101\"/>\n",
       "<polygon fill=\"black\" stroke=\"black\" points=\"248.348,-104.5 258.347,-101 248.347,-97.5001 248.348,-104.5\"/>\n",
       "<text text-anchor=\"middle\" x=\"220\" y=\"-104.8\" font-family=\"Times,serif\" font-style=\"italic\" font-size=\"14.00\">request</text>\n",
       "</g>\n",
       "<!-- project_social_distancing.query_social_distancing.w_score_image -->\n",
       "<g id=\"node5\" class=\"node\"><title>project_social_distancing.query_social_distancing.w_score_image</title>\n",
       "<polygon fill=\"#c8f0ff\" stroke=\"#58a0d3\" stroke-width=\"2\" points=\"656,-87.5 508,-87.5 508,-48.5 656,-48.5 656,-87.5\"/>\n",
       "<text text-anchor=\"middle\" x=\"582\" y=\"-64.3\" font-family=\"Helvetica,sans-Serif\" font-size=\"14.00\">w_score_image</text>\n",
       "</g>\n",
       "<!-- project_social_distancing.query_social_distancing.w_read_yolo_model&#45;&gt;project_social_distancing.query_social_distancing.w_score_image -->\n",
       "<g id=\"edge4\" class=\"edge\"><title>project_social_distancing.query_social_distancing.w_read_yolo_model&#45;&gt;project_social_distancing.query_social_distancing.w_score_image</title>\n",
       "<path fill=\"none\" stroke=\"black\" d=\"M437.702,-88.3829C457.419,-85.5784 478.251,-82.6152 497.74,-79.843\"/>\n",
       "<polygon fill=\"black\" stroke=\"black\" points=\"498.388,-83.2861 507.796,-78.4126 497.403,-76.3559 498.388,-83.2861\"/>\n",
       "<text text-anchor=\"middle\" x=\"473\" y=\"-88.8\" font-family=\"Times,serif\" font-style=\"italic\" font-size=\"14.00\">model</text>\n",
       "</g>\n",
       "<!-- project_social_distancing.query_social_distancing.w_image_input -->\n",
       "<g id=\"node3\" class=\"node\"><title>project_social_distancing.query_social_distancing.w_image_input</title>\n",
       "<polygon fill=\"#c8f0ff\" stroke=\"#58a0d3\" stroke-width=\"2\" points=\"175.5,-63.5 30.5,-63.5 30.5,-24.5 175.5,-24.5 175.5,-63.5\"/>\n",
       "<text text-anchor=\"middle\" x=\"103\" y=\"-40.3\" font-family=\"Helvetica,sans-Serif\" font-size=\"14.00\">w_image_input</text>\n",
       "</g>\n",
       "<!-- project_social_distancing.query_social_distancing.w_image_resized -->\n",
       "<g id=\"node4\" class=\"node\"><title>project_social_distancing.query_social_distancing.w_image_resized</title>\n",
       "<polygon fill=\"#c8f0ff\" stroke=\"#58a0d3\" stroke-width=\"2\" points=\"428,-63.5 268,-63.5 268,-24.5 428,-24.5 428,-63.5\"/>\n",
       "<text text-anchor=\"middle\" x=\"348\" y=\"-40.3\" font-family=\"Helvetica,sans-Serif\" font-size=\"14.00\">w_image_resized</text>\n",
       "</g>\n",
       "<!-- project_social_distancing.query_social_distancing.w_image_input&#45;&gt;project_social_distancing.query_social_distancing.w_image_resized -->\n",
       "<g id=\"edge2\" class=\"edge\"><title>project_social_distancing.query_social_distancing.w_image_input&#45;&gt;project_social_distancing.query_social_distancing.w_image_resized</title>\n",
       "<path fill=\"none\" stroke=\"black\" d=\"M175.594,-44C201.29,-44 230.592,-44 257.611,-44\"/>\n",
       "<polygon fill=\"black\" stroke=\"black\" points=\"257.842,-47.5001 267.842,-44 257.842,-40.5001 257.842,-47.5001\"/>\n",
       "<text text-anchor=\"middle\" x=\"220\" y=\"-47.8\" font-family=\"Times,serif\" font-style=\"italic\" font-size=\"14.00\">data</text>\n",
       "</g>\n",
       "<!-- project_social_distancing.query_social_distancing.w_image_resized&#45;&gt;project_social_distancing.query_social_distancing.w_score_image -->\n",
       "<g id=\"edge3\" class=\"edge\"><title>project_social_distancing.query_social_distancing.w_image_resized&#45;&gt;project_social_distancing.query_social_distancing.w_score_image</title>\n",
       "<path fill=\"none\" stroke=\"black\" d=\"M428.192,-52.1923C450.504,-54.5004 474.842,-57.0181 497.402,-59.3519\"/>\n",
       "<polygon fill=\"black\" stroke=\"black\" points=\"497.321,-62.8622 507.629,-60.4099 498.042,-55.8994 497.321,-62.8622\"/>\n",
       "<text text-anchor=\"middle\" x=\"473\" y=\"-62.8\" font-family=\"Times,serif\" font-style=\"italic\" font-size=\"14.00\">data</text>\n",
       "</g>\n",
       "<!-- project_social_distancing.query_social_distancing.w_calculations_visualization -->\n",
       "<g id=\"node6\" class=\"node\"><title>project_social_distancing.query_social_distancing.w_calculations_visualization</title>\n",
       "<polygon fill=\"#c8f0ff\" stroke=\"#58a0d3\" stroke-width=\"2\" points=\"954,-87.5 718,-87.5 718,-48.5 954,-48.5 954,-87.5\"/>\n",
       "<text text-anchor=\"middle\" x=\"836\" y=\"-64.3\" font-family=\"Helvetica,sans-Serif\" font-size=\"14.00\">w_calculations_visualization</text>\n",
       "</g>\n",
       "<!-- project_social_distancing.query_social_distancing.w_score_image&#45;&gt;project_social_distancing.query_social_distancing.w_calculations_visualization -->\n",
       "<g id=\"edge5\" class=\"edge\"><title>project_social_distancing.query_social_distancing.w_score_image&#45;&gt;project_social_distancing.query_social_distancing.w_calculations_visualization</title>\n",
       "<path fill=\"none\" stroke=\"black\" d=\"M656.227,-68C672.384,-68 689.953,-68 707.561,-68\"/>\n",
       "<polygon fill=\"black\" stroke=\"black\" points=\"707.921,-71.5001 717.921,-68 707.921,-64.5001 707.921,-71.5001\"/>\n",
       "<text text-anchor=\"middle\" x=\"687\" y=\"-71.8\" font-family=\"Times,serif\" font-style=\"italic\" font-size=\"14.00\">data</text>\n",
       "</g>\n",
       "</g>\n",
       "</svg>\n"
      ],
      "text/plain": [
       "Project(name='project_social_distancing')"
      ]
     },
     "execution_count": 11,
     "metadata": {},
     "output_type": "execute_result"
    }
   ],
   "source": [
    "esp.load_project(esp_project)"
   ]
  },
  {
   "cell_type": "markdown",
   "metadata": {},
   "source": [
    "### Create a Publisher to publish the model to the project"
   ]
  },
  {
   "cell_type": "code",
   "execution_count": 12,
   "metadata": {},
   "outputs": [],
   "source": [
    "# Publisher: Send Model\n",
    "q1_pub_model = q1_model_request.create_publisher(blocksize=1, rate=0, pause=0, dateformat='%Y%dT%H:%M:%S.%f', opcode='insert', format='csv')\n",
    "q1_pub_model.send('i,n,1,\"USEGPUESP\",\"1\"\\n')\n",
    "q1_pub_model.send('i,n,2,\"ndevices\",\"1\"\\n')\n",
    "q1_pub_model.send('i,n,3,\"action\",\"load\"\\n')\n",
    "q1_pub_model.send('i,n,4,\"type\",\"astore\"\\n')\n",
    "q1_pub_model.send('i,n,5,\"reference\",\"/data/notebooks/SAS_DeepLearning/Social Distancing Demo/Tiny-Yolov2.astore\"\\n')\n",
    "q1_pub_model.send('i,n,6,,\\n')\n",
    "q1_pub_model.close()"
   ]
  },
  {
   "cell_type": "markdown",
   "metadata": {},
   "source": [
    "### Create a Publisher to publish camera images"
   ]
  },
  {
   "cell_type": "code",
   "execution_count": 13,
   "metadata": {},
   "outputs": [],
   "source": [
    "# Publisher: Send Video\n",
    "q1_pub_video = q1_vid_capture.create_publisher(blocksize=1, rate=0, pause=0, opcode='insert', format='csv')"
   ]
  },
  {
   "cell_type": "markdown",
   "metadata": {},
   "source": [
    "### Publish Image frames into the SAS Event Stream Processing Project & Receive scored data\n",
    "The class 'video_pub' extracts frames from a video and publishes them into SAS Event Stream Processing.<br>\n",
    "The second class 'video_sub' subscribes to the Python-Window to receive the scored results.<br>\n",
    "It will display the results in a window and - optionally - save the results to a video."
   ]
  },
  {
   "cell_type": "code",
   "execution_count": null,
   "metadata": {},
   "outputs": [],
   "source": [
    "# Class to publish videos to SAS Event Stream Processing\n",
    "class video_pub():\n",
    "    def __init__(self, publisher, video_file, video_quality=95):\n",
    "        self.cap = cv2.VideoCapture(video_file)\n",
    "        self.video_quality = video_quality\n",
    "        self.pub = publisher\n",
    "        threading.Thread(target=self.stream, daemon=True).start()\n",
    "        print('Publisher started!')\n",
    "        \n",
    "    def stream(self):\n",
    "        while True:\n",
    "            ret, frame = self.cap.read()\n",
    "            encode_param = [int(cv2.IMWRITE_JPEG_QUALITY), self.video_quality]\n",
    "            _, buffer = cv2.imencode('.jpg', frame, encode_param)\n",
    "            encoded_string = base64.b64encode(buffer)\n",
    "            strToSend = 'i, n, ' + str(int(time.time()*100)) + ',' + encoded_string.decode() + ',' + '\\n'\n",
    "            self.pub.send(strToSend)\n",
    "            \n",
    "# Class to subscribe to SAS Event Stream Processing to receive scored images - optionally save to video\n",
    "class video_sub():\n",
    "    def __init__(self, window, save_to_file=True, filename='', video_fps=25, video_size=(1920,1080)):\n",
    "        self.ws = websocket.WebSocketApp(window.subscriber_url+\"?format=json&mode=streaming&pagesize=1&schema=false\",\n",
    "                                 on_message = self.on_message,\n",
    "                                 on_error = self.on_error,\n",
    "                                 on_close = self.on_close)\n",
    "        self.ws.on_open = self.on_open\n",
    "        self.save_to_file = save_to_file\n",
    "        if save_to_file == True:\n",
    "            fourcc = cv2.VideoWriter_fourcc(*\"MJPG\")\n",
    "            self.out = cv2.VideoWriter(filename, fourcc, video_fps, video_size)\n",
    "        threading.Thread(target=self.ws.run_forever, daemon=True).start()\n",
    "        print('Subscriber Started!')\n",
    "        return\n",
    "\n",
    "    def on_message(self, message):\n",
    "        try:\n",
    "            data = json.loads(message)\n",
    "            imageBufferBase64 = data['events'][0]['event']['scored_image']['scored_image']\n",
    "            nparr = np.frombuffer(base64.b64decode(imageBufferBase64), dtype=np.uint8)\n",
    "            frame = cv2.imdecode(nparr, cv2.IMREAD_COLOR)\n",
    "            if self.save_to_file == True:\n",
    "                self.out.write(frame)\n",
    "            cv2.imshow('frame',frame)\n",
    "            if cv2.waitKey(1) & 0xFF == ord('q'):\n",
    "                cv2.destroyAllWindows()\n",
    "        except Exception as e:\n",
    "            print(e)\n",
    "\n",
    "    def on_error(self, error):\n",
    "        print(error)\n",
    "\n",
    "    def on_close(self):\n",
    "        print(\"Websocket closed!\")\n",
    "\n",
    "    def on_open(self):\n",
    "        print('Websocket open!')\n",
    "\n",
    "publisher = video_pub(publisher=q1_pub_video,\n",
    "                      video_file='/data/notebooks/SAS_DeepLearning/Social Distancing Demo/shopping_mall.mkv',\n",
    "                      video_quality=95)\n",
    "subscriber = video_sub(window=q1_wpython, \n",
    "                       save_to_file=False, \n",
    "                       filename='/data/notebooks/SAS_DeepLearning/Social Distancing Demo/shopping_mall_scored_wo_map2.avi', \n",
    "                       video_fps=25, \n",
    "                       video_size=(1920,1080)) #2855,1080"
   ]
  }
 ],
 "metadata": {
  "kernelspec": {
   "display_name": "Python [conda env:python_sas]",
   "language": "python",
   "name": "conda-env-python_sas-py"
  },
  "language_info": {
   "codemirror_mode": {
    "name": "ipython",
    "version": 3
   },
   "file_extension": ".py",
   "mimetype": "text/x-python",
   "name": "python",
   "nbconvert_exporter": "python",
   "pygments_lexer": "ipython3",
   "version": "3.7.6"
  }
 },
 "nbformat": 4,
 "nbformat_minor": 4
}
